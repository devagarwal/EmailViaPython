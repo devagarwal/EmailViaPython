{
 "cells": [
  {
   "cell_type": "code",
   "execution_count": 1,
   "metadata": {
    "collapsed": true
   },
   "outputs": [],
   "source": [
    "import base64\n",
    "import httplib2\n",
    "\n",
    "from email.mime.text import MIMEText\n",
    "\n",
    "from apiclient.discovery import build\n",
    "from oauth2client.client import flow_from_clientsecrets\n",
    "from oauth2client.file import Storage\n",
    "from oauth2client.tools import run"
   ]
  },
  {
   "cell_type": "code",
   "execution_count": 2,
   "metadata": {
    "collapsed": true
   },
   "outputs": [],
   "source": [
    "# Path to the client_secret.json file downloaded from the Developer Console\n",
    "CLIENT_SECRET_FILE = 'client_secret_22Apr15_nativeApp.json'"
   ]
  },
  {
   "cell_type": "code",
   "execution_count": 3,
   "metadata": {
    "collapsed": true
   },
   "outputs": [],
   "source": [
    "# Check https://developers.google.com/gmail/api/auth/scopes for all available scopes\n",
    "OAUTH_SCOPE = 'https://www.googleapis.com/auth/gmail.compose'"
   ]
  },
  {
   "cell_type": "code",
   "execution_count": 4,
   "metadata": {
    "collapsed": true
   },
   "outputs": [],
   "source": [
    "# Location of the credentials storage file\n",
    "STORAGE = Storage('gmail.storage')"
   ]
  },
  {
   "cell_type": "code",
   "execution_count": 5,
   "metadata": {
    "collapsed": true
   },
   "outputs": [],
   "source": [
    "# Start the OAuth flow to retrieve credentials\n",
    "flow = flow_from_clientsecrets(CLIENT_SECRET_FILE, scope=OAUTH_SCOPE)\n",
    "http = httplib2.Http()"
   ]
  },
  {
   "cell_type": "code",
   "execution_count": 6,
   "metadata": {
    "collapsed": false
   },
   "outputs": [],
   "source": [
    "# Try to retrieve credentials from storage or run the flow to generate them\n",
    "credentials = STORAGE.get()\n",
    "if credentials is None or credentials.invalid:\n",
    "  credentials = run(flow, STORAGE, http=http)\n",
    "\n"
   ]
  },
  {
   "cell_type": "code",
   "execution_count": 7,
   "metadata": {
    "collapsed": true
   },
   "outputs": [],
   "source": [
    "# Authorize the httplib2.Http object with our credentials\n",
    "http = credentials.authorize(http)\n",
    "\n",
    "# Build the Gmail service from discovery\n",
    "gmail_service = build('gmail', 'v1', http=http)"
   ]
  },
  {
   "cell_type": "code",
   "execution_count": null,
   "metadata": {
    "collapsed": false
   },
   "outputs": [],
   "source": [
    "# create a message to send\n",
    "message = MIMEText(\"Hello World\")\n",
    "message['to'] = \"towhomever@gmail.com\"\n",
    "message['from'] = \"myemailid@gmail.com\"\n",
    "message['subject'] = \"your subject goes here. Does it\"\n",
    "body = {'raw': base64.b64encode(message.as_string())}\n",
    "\n",
    "# send it\n",
    "try:\n",
    "  message = (gmail_service.users().messages().send(userId=\"me\", body=body).execute())\n",
    "  print('Message Id: %s' % message['id'])\n",
    "  print(message)\n",
    "except Exception as error:\n",
    "  print('An error occurred: %s' % error)"
   ]
  },
  {
   "cell_type": "code",
   "execution_count": null,
   "metadata": {
    "collapsed": true
   },
   "outputs": [],
   "source": []
  }
 ],
 "metadata": {
  "kernelspec": {
   "display_name": "Python 2",
   "language": "python",
   "name": "python2"
  },
  "language_info": {
   "codemirror_mode": {
    "name": "ipython",
    "version": 2
   },
   "file_extension": ".py",
   "mimetype": "text/x-python",
   "name": "python",
   "nbconvert_exporter": "python",
   "pygments_lexer": "ipython2",
   "version": "2.7.9"
  }
 },
 "nbformat": 4,
 "nbformat_minor": 0
}
